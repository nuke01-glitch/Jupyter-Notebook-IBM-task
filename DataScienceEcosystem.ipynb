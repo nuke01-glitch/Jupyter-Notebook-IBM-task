{
 "cells": [
  {
   "cell_type": "markdown",
   "id": "b6f44ede-1426-4728-b3e9-db732dcf9ed8",
   "metadata": {},
   "source": [
    "# Data Science Tools and Ecosystem"
   ]
  },
  {
   "cell_type": "markdown",
   "id": "1615dee9-daec-4002-b2cb-29cbceee3718",
   "metadata": {},
   "source": [
    "In this notebook, Data Science Tools and Ecosystem are summarized.\n"
   ]
  },
  {
   "cell_type": "markdown",
   "id": "922615c9-325b-405f-bc93-9d66ee1e3eaf",
   "metadata": {},
   "source": [
    "__Objectives:__\n",
    "- List popular languages for Data Science  \n",
    "- Identify commonly used libraries in Data Science  \n",
    "- Summarize development environment tools used in Data Science  \n",
    "- Demonstrate basic arithmetic operations in Python  \n",
    "- Use Markdown formatting in Jupyter Notebook  \n"
   ]
  },
  {
   "cell_type": "markdown",
   "id": "27b14df0-4004-49a4-8b57-9a16f7d7f273",
   "metadata": {},
   "source": [
    "Some of the popular languages that Data Scientists use are:\n",
    "1. Python\n",
    "2. Scala\n",
    "3. Julia\n",
    "4. R"
   ]
  },
  {
   "cell_type": "markdown",
   "id": "773b7039-2511-4a77-a86e-bbe59fc17ba1",
   "metadata": {},
   "source": [
    "Some of the commonly used libraries used by Data Scientists include:\n",
    "1. Pandas\n",
    "2. Matplotlib\n",
    "3. Numpy \n"
   ]
  },
  {
   "cell_type": "markdown",
   "id": "e8ad7da1-5e57-4141-a3c4-989b33bb2544",
   "metadata": {},
   "source": [
    "| DATA SCIENCE TOOL|\n",
    "|------------------|\n",
    "| Jupyter Notebook |\n",
    "|   R Studio       |\n",
    "|    VS Code       |"
   ]
  },
  {
   "cell_type": "markdown",
   "id": "8443d135-f566-4ba7-93c5-b7bfa51f9650",
   "metadata": {},
   "source": [
    "### Below are a few examples of evaluating arithmetic expressions in Python."
   ]
  },
  {
   "cell_type": "code",
   "execution_count": 2,
   "id": "9ac85156-266f-4f95-a4bf-4610b425e696",
   "metadata": {},
   "outputs": [
    {
     "data": {
      "text/plain": [
       "17"
      ]
     },
     "execution_count": 2,
     "metadata": {},
     "output_type": "execute_result"
    }
   ],
   "source": [
    "#This a simple arithmetic expression to mutiply then add integers\n",
    "(3*4)+5"
   ]
  },
  {
   "cell_type": "code",
   "execution_count": 4,
   "id": "41819607-edc7-456f-9ce0-33670bd77d90",
   "metadata": {},
   "outputs": [
    {
     "name": "stdout",
     "output_type": "stream",
     "text": [
      "200 minutes is equal to 3.3333333333333335 hours.\n"
     ]
    }
   ],
   "source": [
    "#This will convert 200 minutes to hours by diving by 60\n",
    "minutes = 200\n",
    "hours = minutes / 60\n",
    "\n",
    "print(f\"{minutes} minutes is equal to {hours} hours.\")"
   ]
  },
  {
   "cell_type": "markdown",
   "id": "921fc0f4-1527-49fc-9000-449c706dad0f",
   "metadata": {},
   "source": [
    "## AUTHOR\n",
    "Sarthak Shree"
   ]
  },
  {
   "cell_type": "code",
   "execution_count": null,
   "id": "8e1ec1ad-38de-48f6-aa52-978886f525dc",
   "metadata": {},
   "outputs": [],
   "source": []
  }
 ],
 "metadata": {
  "kernelspec": {
   "display_name": "Python 3 (ipykernel)",
   "language": "python",
   "name": "python3"
  },
  "language_info": {
   "codemirror_mode": {
    "name": "ipython",
    "version": 3
   },
   "file_extension": ".py",
   "mimetype": "text/x-python",
   "name": "python",
   "nbconvert_exporter": "python",
   "pygments_lexer": "ipython3",
   "version": "3.12.4"
  }
 },
 "nbformat": 4,
 "nbformat_minor": 5
}
